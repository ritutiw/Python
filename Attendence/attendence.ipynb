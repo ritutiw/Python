

class EmpNode():
    
    def __init__(self,EId):
        self.EmpId = EId
        self.attCtr = 1
        self.left = None
        self.right = None


    def loadTree(self,eids):
        
        for Eid in eids:
            self._readEmployeesRec(self,Eid)

    def countHead(self):
        count=self._getHeadcountRec(self)
        f=open('outputPS1.txt','w')
        f.write('Total number of employees today: {}\n'.format(count))
        f.close()

    def searchHead(self,eId):
        f=open('outputPS1.txt','a')
        if self._searchIDRec(self,eId):
            f.write('Employee id {} is present today.\n'.format(eId))
            f.write('Employee id {} is absent today.\n'.format(eId))

    def howOften(self,eid):
        f=open('outputPS1.txt','a')
        count=self._howOften_Rec(self,eid)
        if count==-1:
            f.write('Employee id {} did not swipe today.\n'.format(eid))
        elif count%2==1 :
            f.write('Employee id {} swiped {} times today and is currently in office.\n'.format(eid,count))
        else:
            f.write('Employee id {} swiped {} times today and is currently outside office.\n'.format(eid,count))
        f.close()

    def frequenthead(self):
        f=open('outputPS1.txt','a')
        eNode=self._frequentVisitorRec(self)
        f.write('Employee id {} swiped the most number of times today with a count of {}\n'.format(eNode.EmpId,eNode.attCtr))
        f.close()

    def _readEmployeesRec(self,eNode,Eid):
        if Eid < eNode.EmpId:
            if eNode.left == None:
                eNode.left=EmpNode(Eid)
            else:
                self._readEmployeesRec(eNode.left,Eid)

        elif Eid > eNode.EmpId:
            if eNode.right == None:
                eNode.right=EmpNode(Eid)
            else:
                self._readEmployeesRec(eNode.right,Eid)
        else:
            eNode.attCtr+=1



    def _getHeadcountRec(self,eNode):
        count=1
        if eNode.left!=None:
            count+= self._getHeadcountRec(eNode.left)
        if eNode.right!=None:
            count+= self._getHeadcountRec(eNode.right)
        return count

    def _searchIDRec(self,eNode,eId):
        if eNode.EmpId == eId :
            return True
        else:
            if  eNode.EmpId > eId and eNode.left:
                return self._searchIDRec(eNode.left,eId)
            elif eNode.EmpId < eId and eNode.right: 
                return self._searchIDRec(eNode.right,eId)
            else:
                return False

        

    def _howOften_Rec(self,eNode,EId):
        if eNode.EmpId == EId :
            return eNode.attCtr
        else:
            if  eNode.EmpId > EId and eNode.left:
                return self._howOften_Rec(eNode.left,EId)
            elif eNode.EmpId < EId and eNode.right: 
                return self._howOften_Rec(eNode.right,EId)
            else:
                return -1


    def _frequentVisitorRec(self,eNode):

        
        lcnt=None
        if eNode.left:
            lcnt=self._frequentVisitorRec(eNode.left)
        rcnt=None
        if eNode.right:
            rcnt=self._frequentVisitorRec(eNode.right)

        if lcnt!=None and lcnt.attCtr>eNode.attCtr and lcnt.attCtr>rcnt.attCtr:
            return eNode.left
        elif rcnt !=None and rcnt.attCtr>eNode.attCtr and rcnt.attCtr>lcnt.attCtr:
            return eNode.right
        else:
            return eNode


    def printRangePresent(self,Startid,EndId):
        f=open('outputPS1.txt','a')
        f.write('Range: {} to {}\n'.format(Startid,EndId))
        f.write('Employee attendance:\n')
        self._rangeInorder(self,Startid,EndId,f)
        f.close()

    def _rangeInorder(self,eNode,Startid,EndId,f):

        if eNode.EmpId >= Startid and eNode.EmpId<EndId:
            if eNode.attCtr%2 == 1:
                f.write('{}, {}, in\n'.format(eNode.EmpId,eNode.attCtr))
            else:
                f.write('{}, {}, out\n'.format(eNode.EmpId,eNode.attCtr))
        
        if eNode.left:
            self._rangeInorder(eNode.left,Startid,EndId,f)
        if eNode.right:
            self._rangeInorder(eNode.right,Startid,EndId,f)


        

if __name__ == '__main__':

    f=open('inputPS1.txt','r')
    lines=f.readlines()
    f.close()
    for i in range(len(lines)):
        lines[i]=int(lines[i].strip())

    root=EmpNode(lines[0])
    root.loadTree(lines[1:])
    root.countHead()

    f=open('promptsPS1.txt','r')
    lines=f.readlines()
    f.close()

    for i in range(len(lines)):
        lines[i]=lines[i].strip()
        words=lines[i].split(':')
        if words[0]=='searchID':
            root.searchHead(int(words[1]))
        elif words[0]=='howOften':
            root.howOften(int(words[1]))
    root.frequenthead()

    for i in range(len(lines)):
        words=lines[i].split(':')
        if words[0]=='range':
            root.printRangePresent(int(words[1]),int(words[2]))


